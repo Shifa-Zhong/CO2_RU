{
 "cells": [
  {
   "cell_type": "code",
   "execution_count": null,
   "metadata": {
    "executionInfo": {
     "elapsed": 307,
     "status": "ok",
     "timestamp": 1629824443666,
     "user": {
      "displayName": "Shifa Zhong",
      "photoUrl": "",
      "userId": "10488948237386234172"
     },
     "user_tz": 240
    },
    "id": "OcW49mjJScQ0",
    "tags": []
   },
   "outputs": [],
   "source": [
    "%matplotlib inline\n",
    "import matplotlib.pyplot as plt\n",
    "from sklearn.metrics import mean_squared_error\n",
    "from sklearn.metrics import r2_score, mean_absolute_error\n",
    "from mordred import Calculator, descriptors\n",
    "import pandas as pd\n",
    "import numpy as np\n",
    "from rdkit import Chem\n",
    "from sklearn.metrics import mean_absolute_error as mae\n",
    "from hyperopt import hp, tpe, Trials, STATUS_OK, fmin\n",
    "from sklearn.model_selection import cross_validate\n",
    "from catboost import CatBoostRegressor\n",
    "from xgboost import XGBRegressor\n",
    "from sklearn.model_selection import ShuffleSplit\n",
    "from sklearn import svm\n",
    "from sklearn.ensemble import RandomForestRegressor, ExtraTreesRegressor,AdaBoostRegressor,BaggingRegressor,ExtraTreesRegressor,GradientBoostingRegressor \n",
    "from sklearn.tree import DecisionTreeRegressor\n",
    "from sklearn import linear_model\n",
    "from sklearn.ensemble import RandomForestRegressor\n",
    "from sklearn.linear_model import Ridge,ARDRegression,BayesianRidge,ElasticNet,HuberRegressor\n",
    "from sklearn.linear_model import Lasso, LassoLars, LinearRegression, LogisticRegression, PassiveAggressiveRegressor,Ridge,SGDRegressor"
   ]
  },
  {
   "cell_type": "code",
   "execution_count": null,
   "metadata": {
    "tags": []
   },
   "outputs": [],
   "source": [
    "traindata = pd.read_csv(f'data/train_{1}_group_co2.csv')\n",
    "valdata = pd.read_csv(f'data/val_{1}_group_co2.csv')\n",
    "data=pd.concat([traindata, valdata],ignore_index=True)\n",
    "data.head()"
   ]
  },
  {
   "cell_type": "code",
   "execution_count": null,
   "metadata": {
    "tags": []
   },
   "outputs": [],
   "source": [
    "data.columns"
   ]
  },
  {
   "cell_type": "code",
   "execution_count": null,
   "metadata": {
    "id": "xY3epsrXcIN6",
    "tags": []
   },
   "outputs": [],
   "source": [
    "smile= list(data['new_cation'])\n",
    "mols = [Chem.MolFromSmiles(smi) for smi in smile]\n",
    "calc = Calculator(descriptors, ignore_3D=True)\n",
    "data_md_C = calc.pandas(mols)\n",
    "\n",
    "smile= list(data['new_anion'])\n",
    "mols = [Chem.MolFromSmiles(smi) for smi in smile]\n",
    "calc = Calculator(descriptors, ignore_3D=True)\n",
    "data_md_A = calc.pandas(mols)\n",
    "data_md_C=data_md_C.astype('float64')\n",
    "data_md_A=data_md_A.astype('float64')\n",
    "\n",
    "data_md_C.replace([np.inf, -np.inf], np.nan, inplace=True)\n",
    "data_md_C.dropna(axis=1,inplace=True)\n",
    "data_md_A.replace([np.inf, -np.inf], np.nan, inplace=True)\n",
    "data_md_A.dropna(axis=1,inplace=True)\n",
    "\n",
    "data_md_C.columns = [i + '_C' for i in data_md_C.columns]\n",
    "data_md_A.columns = [i + '_A' for i in data_md_A.columns]\n",
    "data_md = pd.concat([data_md_C, data_md_A], axis=1)\n",
    "\n",
    "corr = data_md.corr()\n",
    "columns = np.full((corr.shape[0],), True, dtype=bool)\n",
    "for i in range(corr.shape[0]):\n",
    "    for j in range(i+1, corr.shape[0]):\n",
    "        if corr.iloc[i,j] >= 0.9:\n",
    "            if columns[j]:\n",
    "                columns[j] = False\n",
    "selected_columns = data_md.columns[columns]\n",
    "data_md = data_md[selected_columns]\n",
    "data_md['T']=data['T']\n",
    "data_md['P']=data['P']\n",
    "data_md['CO2-exp']=data['CO2-exp']"
   ]
  },
  {
   "cell_type": "code",
   "execution_count": null,
   "metadata": {
    "tags": []
   },
   "outputs": [],
   "source": [
    "for i in data_md.columns:\n",
    "    if len(data_md[i].value_counts())<2:\n",
    "        data_md.drop(columns=[i], inplace=True)\n",
    "len(data_md.columns)\n",
    "selected_columns=data_md.columns\n",
    "len(selected_columns)"
   ]
  },
  {
   "cell_type": "code",
   "execution_count": null,
   "metadata": {
    "tags": []
   },
   "outputs": [],
   "source": [
    "data_md.head()"
   ]
  },
  {
   "cell_type": "code",
   "execution_count": null,
   "metadata": {
    "tags": []
   },
   "outputs": [],
   "source": [
    "from BorutaShap import BorutaShap\n",
    "model =CatBoostRegressor(random_state=10, verbose=False)\n",
    "x = data_md.drop(columns=['CO2-exp'])\n",
    "y = data_md['CO2-exp']\n",
    "Feature_Selector = BorutaShap(model=model,importance_measure='shap',classification=False)\n",
    "Feature_Selector.fit(X=x, y=y, n_trials=100, train_or_test = 'test', normalize=True, verbose=True)"
   ]
  },
  {
   "cell_type": "code",
   "execution_count": null,
   "metadata": {
    "tags": []
   },
   "outputs": [],
   "source": [
    "subset = Feature_Selector.Subset()\n",
    "subset.head()"
   ]
  },
  {
   "cell_type": "code",
   "execution_count": null,
   "metadata": {
    "colab": {
     "base_uri": "https://localhost:8080/"
    },
    "executionInfo": {
     "elapsed": 9,
     "status": "ok",
     "timestamp": 1629697987772,
     "user": {
      "displayName": "Shifa Zhong",
      "photoUrl": "",
      "userId": "10488948237386234172"
     },
     "user_tz": 240
    },
    "id": "sPxWA4yUd65A",
    "outputId": "fd289bd3-df02-4c31-b7a5-1dfcb949866d",
    "tags": []
   },
   "outputs": [],
   "source": [
    "import pickle\n",
    "#with open('CO2_col.dump', 'wb') as f:\n",
    "    #pickle.dump(list(subset.columns), f)\n",
    "col_input=pickle.load(open(\"CO2_col.dump\" , \"rb\"))"
   ]
  },
  {
   "cell_type": "code",
   "execution_count": null,
   "metadata": {
    "colab": {
     "base_uri": "https://localhost:8080/"
    },
    "executionInfo": {
     "elapsed": 28208,
     "status": "ok",
     "timestamp": 1629698015975,
     "user": {
      "displayName": "Shifa Zhong",
      "photoUrl": "",
      "userId": "10488948237386234172"
     },
     "user_tz": 240
    },
    "id": "qv2lLJvLScRA",
    "outputId": "6871f8d7-915f-4edf-ee5b-87baf81602fa",
    "tags": []
   },
   "outputs": [],
   "source": [
    "def get_data_md(data):\n",
    "    smile= list(data['new_cation'])\n",
    "    mols = [Chem.MolFromSmiles(smi) for smi in smile]\n",
    "    calc = Calculator(descriptors, ignore_3D=True)\n",
    "    data_md_C = calc.pandas(mols)\n",
    "\n",
    "    smile= list(data['new_anion'])\n",
    "    mols = [Chem.MolFromSmiles(smi) for smi in smile]\n",
    "    calc = Calculator(descriptors, ignore_3D=True)\n",
    "    data_md_A = calc.pandas(mols)\n",
    "    \n",
    "    data_md_C=data_md_C.astype('float64')\n",
    "    data_md_A=data_md_A.astype('float64')\n",
    "    data_md_C.columns = [i + '_C' for i in data_md_C.columns]\n",
    "    data_md_A.columns = [i + '_A' for i in data_md_A.columns]\n",
    "    data_md = pd.concat([data_md_C, data_md_A], axis=1)\n",
    "    data_md['T']=data['T']\n",
    "    data_md['P']=data['P']\n",
    "    data_md['CO2-exp']=data['CO2-exp']\n",
    "    col = col_input +['CO2-exp']\n",
    "    data_final = data_md[col]\n",
    "    return data_final"
   ]
  },
  {
   "cell_type": "code",
   "execution_count": null,
   "metadata": {
    "colab": {
     "base_uri": "https://localhost:8080/"
    },
    "executionInfo": {
     "elapsed": 12995,
     "status": "ok",
     "timestamp": 1629698028944,
     "user": {
      "displayName": "Shifa Zhong",
      "photoUrl": "",
      "userId": "10488948237386234172"
     },
     "user_tz": 240
    },
    "id": "MUb2TI_TScRB",
    "outputId": "6e77908b-703a-4c69-f0d9-20f654e6608d",
    "tags": []
   },
   "outputs": [],
   "source": [
    "for i in range(1, 6):\n",
    "    traindata = pd.read_csv(f'data/train_{i}_group_co2.csv')\n",
    "    valdata = pd.read_csv(f'data/val_{i}_group_co2.csv')\n",
    "    traindata_md = get_data_md(traindata)\n",
    "    valdata_md = get_data_md(valdata)\n",
    "    traindata_md.to_csv(f'data/train_{i}_group_co2_md.csv',index=False)\n",
    "    valdata_md.to_csv(f'data/val_{i}_group_co2_md.csv',index=False)"
   ]
  },
  {
   "cell_type": "code",
   "execution_count": null,
   "metadata": {
    "colab": {
     "base_uri": "https://localhost:8080/"
    },
    "executionInfo": {
     "elapsed": 2784,
     "status": "ok",
     "timestamp": 1629698031708,
     "user": {
      "displayName": "Shifa Zhong",
      "photoUrl": "",
      "userId": "10488948237386234172"
     },
     "user_tz": 240
    },
    "id": "mNPSbJ_LScRB",
    "outputId": "dfa5dceb-85f7-43d5-89a9-5f99e6da0cf7",
    "tags": []
   },
   "outputs": [],
   "source": [
    "def conv_data_pd(data):\n",
    "    x_pd =data.drop(columns = ['CO2-exp'])\n",
    "    y = data['CO2-exp'].values\n",
    "    return x_pd, y"
   ]
  },
  {
   "cell_type": "code",
   "execution_count": null,
   "metadata": {
    "id": "7JLIGrjYScRD",
    "tags": []
   },
   "outputs": [],
   "source": [
    "from sklearn.preprocessing import StandardScaler, MinMaxScaler, MaxAbsScaler, RobustScaler, PowerTransformer, QuantileTransformer\n",
    "models = [CatBoostRegressor(verbose =False,random_state=10),XGBRegressor(random_state=10), svm.SVR(),RandomForestRegressor(random_state=10),\n",
    "          AdaBoostRegressor(random_state=10),BaggingRegressor(random_state=10),GradientBoostingRegressor(random_state=10),\n",
    "         Lasso(), Ridge(random_state=10)]\n",
    "results = pd.DataFrame(columns=['train_rmse','train_r2', 'test_rmse','test_r2', 'name', 'scaler'])\n",
    "scaler = [StandardScaler(), MinMaxScaler(), MaxAbsScaler(), RobustScaler(), PowerTransformer(), QuantileTransformer(random_state=40)]\n",
    "k =0 \n",
    "for model in models:\n",
    "    for sc in scaler:\n",
    "        t_rmse=[]\n",
    "        t_r2=[]\n",
    "        v_rmse=[]\n",
    "        v_r2=[]\n",
    "        for i in range(1, 6):\n",
    "            train_data = pd.read_csv(f'data/train_{i}_group_co2_md.csv')\n",
    "            val_data = pd.read_csv(f'data/val_{i}_group_co2_md.csv')\n",
    "            x_train_pd, y_train = conv_data_pd(train_data)\n",
    "            x_train = x_train_pd.values\n",
    "            x_train = sc.fit_transform(x_train)\n",
    "            x_val_pd, y_val = conv_data_pd(val_data)\n",
    "            x_val = x_val_pd.values\n",
    "            x_val = sc.transform(x_val)\n",
    "            model.fit(x_train, y_train)\n",
    "            y_val_pred = model.predict(x_val)\n",
    "            y_train_pred = model.predict(x_train)\n",
    "            t_rmse.append(np.sqrt(mean_squared_error(y_train, y_train_pred)))\n",
    "            v_rmse.append(np.sqrt(mean_squared_error(y_val, y_val_pred)))\n",
    "            t_r2.append(r2_score(y_train,y_train_pred))\n",
    "            v_r2.append(r2_score(y_val, y_val_pred))\n",
    "        results.loc[k, 'train_rmse']=np.mean(t_rmse)\n",
    "        results.loc[k, 'test_rmse']=np.mean(v_rmse)+np.std(v_rmse)\n",
    "        results.loc[k, 'train_r2']=np.mean(t_r2)\n",
    "        results.loc[k, 'test_r2']=np.mean(v_r2)+np.std(v_r2)\n",
    "        results.loc[k, 'name']=model.__class__.__name__\n",
    "        results.loc[k, 'scaler']=sc.__class__.__name__\n",
    "        k+=1\n"
   ]
  },
  {
   "cell_type": "code",
   "execution_count": null,
   "metadata": {
    "colab": {
     "base_uri": "https://localhost:8080/",
     "height": 202
    },
    "executionInfo": {
     "elapsed": 59,
     "status": "ok",
     "timestamp": 1629699038831,
     "user": {
      "displayName": "Shifa Zhong",
      "photoUrl": "",
      "userId": "10488948237386234172"
     },
     "user_tz": 240
    },
    "id": "ol5GIRXHtnBm",
    "outputId": "69aa4e05-1c92-4882-8f61-7f0b476a7508",
    "tags": []
   },
   "outputs": [],
   "source": [
    "results.sort_values(['test_rmse'], ascending= True, inplace = True)\n",
    "results.head()"
   ]
  },
  {
   "cell_type": "code",
   "execution_count": null,
   "metadata": {
    "id": "ofgQwsP1tnEx",
    "tags": []
   },
   "outputs": [],
   "source": [
    "results.to_excel('data/co2_model_selection_MD.xlsx', index=False)"
   ]
  },
  {
   "cell_type": "code",
   "execution_count": null,
   "metadata": {
    "id": "JbwIsfwAtnIH",
    "tags": []
   },
   "outputs": [],
   "source": [
    "space = {'depth': hp.quniform('depth', 1,6,1),\n",
    "         'l2_leaf_reg': hp.uniform('l2_leaf_reg', 3, 100.0),\n",
    "          'learning_rate':hp.loguniform('learning_rate', np.log(0.0001), np.log(0.025)),\n",
    "          'iterations':hp.quniform('iterations', 1, 1000, 1),\n",
    "         'bagging_temperature':hp.uniform('bagging_temperature', 1, 200),\n",
    "         'random_strength':hp.uniform('random_strength', 1, 200)}\n",
    "def fit(params):\n",
    "    model = CatBoostRegressor(**params,random_state=10, verbose=False)\n",
    "    val_loss=[]\n",
    "    train_loss=[]\n",
    "    for i in range(1, 6):\n",
    "        train_data = pd.read_csv(f'data/train_{i}_group_co2_md.csv')\n",
    "        val_data = pd.read_csv(f'data/val_{i}_group_co2_md.csv')\n",
    "        x_train_pd, y_train = conv_data_pd(train_data)\n",
    "        x_train = x_train_pd.values\n",
    "        x_val_pd, y_val = conv_data_pd(val_data)\n",
    "        x_val = x_val_pd.values\n",
    "        model.fit(x_train, y_train)\n",
    "        y_val_pred =model.predict(x_val)\n",
    "        y_train_pred =model.predict(x_train)\n",
    "        train_loss.append(np.sqrt(mean_squared_error(y_train, y_train_pred)))\n",
    "        val_loss.append(np.sqrt(mean_squared_error(y_val, y_val_pred)))\n",
    "    return np.mean(val_loss)+np.std(val_loss), np.mean(train_loss)\n",
    "\n",
    "def objective(params):\n",
    "    global ITERATION\n",
    "    ITERATION +=1\n",
    "    for name in ['depth', 'iterations']:\n",
    "        params[name] = int(params[name])\n",
    "    loss, train_loss = fit(params)\n",
    "    loss =loss\n",
    "    off_connection = open(out_file, 'a')\n",
    "    writer = csv.writer(off_connection)\n",
    "    writer.writerow([loss,train_loss, params, ITERATION])\n",
    "    #pickle.dump(bayes_trial, open(dir_data + \"h2_cat.p\", \"wb\"))\n",
    "    return {'loss':loss,'train_loss':train_loss, 'params': params, 'iteration':ITERATION, 'status':STATUS_OK}\n",
    "\n",
    "import csv\n",
    "out_file ='data/CO2_MD_hyper.csv'\n",
    "off_connection =open(out_file, 'w')\n",
    "writer = csv.writer(off_connection)\n",
    "writer.writerow(['loss','train_loss', 'params', 'iteration'])\n",
    "off_connection.close()\n",
    "\n",
    "tpe_algo = tpe.suggest\n",
    "bayes_trial = Trials()"
   ]
  },
  {
   "cell_type": "code",
   "execution_count": null,
   "metadata": {
    "colab": {
     "base_uri": "https://localhost:8080/",
     "height": 419
    },
    "executionInfo": {
     "elapsed": 3254263,
     "status": "error",
     "timestamp": 1629766987805,
     "user": {
      "displayName": "Shifa Zhong",
      "photoUrl": "",
      "userId": "10488948237386234172"
     },
     "user_tz": 240
    },
    "id": "pOKknFEutnK9",
    "outputId": "6d2596a4-4f4f-475d-c414-235fdd868b59",
    "tags": []
   },
   "outputs": [],
   "source": [
    "#%%capture\n",
    "from hyperopt.early_stop import no_progress_loss\n",
    "global ITERATION\n",
    "ITERATION =0\n",
    "best = fmin(fn = objective, space =space, algo = tpe_algo, trials = bayes_trial,\n",
    "            early_stop_fn=no_progress_loss(100),max_evals=3000, rstate= np.random.default_rng()) "
   ]
  },
  {
   "cell_type": "code",
   "execution_count": null,
   "metadata": {
    "colab": {
     "base_uri": "https://localhost:8080/",
     "height": 419
    },
    "executionInfo": {
     "elapsed": 167,
     "status": "error",
     "timestamp": 1629763632234,
     "user": {
      "displayName": "Shifa Zhong",
      "photoUrl": "",
      "userId": "10488948237386234172"
     },
     "user_tz": 240
    },
    "id": "_rOcFBdftnOl",
    "outputId": "3f9e7007-d78f-43eb-ae27-04b11e7a6d8a",
    "tags": []
   },
   "outputs": [],
   "source": [
    "result = pd.read_csv('data/CO2_MD_hyper.csv')\n",
    "result.sort_values('loss', ascending= True, inplace = True)\n",
    "result.reset_index(drop = True, inplace =True)\n",
    "result.head()"
   ]
  },
  {
   "cell_type": "code",
   "execution_count": null,
   "metadata": {
    "tags": []
   },
   "outputs": [],
   "source": [
    "import ast\n",
    "params = ast.literal_eval(result['params'][0])                                                                                                                                                                                                                                                               \n",
    "params"
   ]
  },
  {
   "cell_type": "code",
   "execution_count": null,
   "metadata": {
    "id": "vfcllQpGScRQ",
    "tags": []
   },
   "outputs": [],
   "source": [
    "testdata = pd.read_csv(f'data/test_group_co2.csv')\n",
    "testdata_md = get_data_md(testdata)"
   ]
  },
  {
   "cell_type": "code",
   "execution_count": null,
   "metadata": {
    "tags": []
   },
   "outputs": [],
   "source": [
    "testdata_md.to_csv(f'data/test_group_co2_md.csv', index=False)\n",
    "testdata_md=pd.read_csv(f'data/test_group_co2_md.csv')\n",
    "testdata_md.head()"
   ]
  },
  {
   "cell_type": "code",
   "execution_count": null,
   "metadata": {
    "tags": []
   },
   "outputs": [],
   "source": [
    "train_data = pd.read_csv(f'data/train_{1}_group_co2_md.csv')\n",
    "val_data = pd.read_csv(f'data/val_{1}_group_co2_md.csv')\n",
    "train_data_merge= pd.concat([train_data, val_data],ignore_index=True)\n",
    "train_data_merge.head()"
   ]
  },
  {
   "cell_type": "code",
   "execution_count": null,
   "metadata": {
    "tags": []
   },
   "outputs": [],
   "source": [
    "model = CatBoostRegressor(**params,random_state=10, verbose=False)\n",
    "x_test_pd, y_test =conv_data_pd(testdata_md)\n",
    "x_test = x_test_pd.values\n",
    "x_train_pd, y_train =conv_data_pd(train_data_merge)\n",
    "x_train =x_train_pd.values\n",
    "model.fit(x_train, y_train)\n",
    "y_test_pred =model.predict(x_test)\n",
    "y_train_pred =model.predict(x_train)"
   ]
  }
 ],
 "metadata": {
  "colab": {
   "collapsed_sections": [],
   "name": "Ref-mord.ipynb",
   "provenance": []
  },
  "kernelspec": {
   "display_name": "co2",
   "language": "python",
   "name": "co2"
  },
  "language_info": {
   "codemirror_mode": {
    "name": "ipython",
    "version": 3
   },
   "file_extension": ".py",
   "mimetype": "text/x-python",
   "name": "python",
   "nbconvert_exporter": "python",
   "pygments_lexer": "ipython3",
   "version": "3.11.5"
  }
 },
 "nbformat": 4,
 "nbformat_minor": 4
}
