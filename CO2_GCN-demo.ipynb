{
 "cells": [
  {
   "cell_type": "code",
   "execution_count": null,
   "id": "390018d0",
   "metadata": {
    "tags": []
   },
   "outputs": [],
   "source": [
    "%matplotlib inline\n",
    "import matplotlib.pyplot as plt\n",
    "from rdkit import Chem\n",
    "import numpy as np\n",
    "import random\n",
    "import warnings\n",
    "warnings.filterwarnings(\"ignore\")\n",
    "import matplotlib.pyplot as plt\n",
    "from pysmiles import read_smiles\n",
    "import pandas as pd\n",
    "import logging\n",
    "from tqdm import tqdm\n",
    "from rdkit.Chem import Descriptors\n",
    "from rdkit.Chem import AllChem\n",
    "from rdkit.Chem import Draw\n",
    "import torch\n",
    "from torch.nn import Sequential as Seq, Linear, ReLU, CrossEntropyLoss\n",
    "import torch.nn.functional as F\n",
    "from torch_geometric.nn import MessagePassing, GCNConv\n",
    "from torch_geometric.utils import remove_self_loops, add_self_loops, degree\n",
    "from torch_geometric.data import Data\n",
    "from torch_geometric.data import DataLoader\n",
    "from sklearn.metrics import mean_squared_error\n",
    "from sklearn.metrics import r2_score\n",
    "logging.getLogger('pysmiles').setLevel(logging.CRITICAL)  # Anything higher than warning"
   ]
  },
  {
   "cell_type": "code",
   "execution_count": null,
   "id": "304d0c77",
   "metadata": {
    "tags": []
   },
   "outputs": [],
   "source": [
    "def set_seed(seed =2019):\n",
    "    random.seed(seed)\n",
    "    np.random.seed(seed)\n",
    "    torch.manual_seed(seed)\n",
    "    torch.cuda.manual_seed(seed)\n",
    "    torch.cuda.manual_seed_all(seed)\n",
    "set_seed(2019)"
   ]
  },
  {
   "cell_type": "code",
   "execution_count": null,
   "id": "f6ff68d9",
   "metadata": {
    "tags": []
   },
   "outputs": [],
   "source": [
    "k=1\n",
    "traindata = pd.read_csv(f'data/train_{k}_group_co2.csv')\n",
    "valdata = pd.read_csv(f'data/val_{k}_group_co2.csv')\n",
    "testdata = pd.read_csv('data/test_group_co2.csv')\n",
    "fdata = pd.concat([traindata, valdata, testdata], ignore_index=True)\n",
    "fdata.head()"
   ]
  },
  {
   "cell_type": "code",
   "execution_count": null,
   "id": "b554fdad",
   "metadata": {
    "tags": []
   },
   "outputs": [],
   "source": [
    "def uni_s(smile):\n",
    "    mol = Chem.MolFromSmiles(smile)\n",
    "    new_s = Chem.MolToSmiles(mol)\n",
    "    return new_s"
   ]
  },
  {
   "cell_type": "code",
   "execution_count": null,
   "id": "e7e28857",
   "metadata": {
    "tags": []
   },
   "outputs": [],
   "source": [
    "elements=[]\n",
    "for i in tqdm(range(len(fdata))):\n",
    "    mol = Chem.MolFromSmiles(fdata['group'][i])\n",
    "    mol = Chem.AddHs(mol)\n",
    "    for i in range(len(mol.GetAtoms())):\n",
    "        elements.append(mol.GetAtomWithIdx(i).GetSymbol())\n",
    "elements = list(set(elements))\n",
    "elements"
   ]
  },
  {
   "cell_type": "code",
   "execution_count": null,
   "id": "791a2075",
   "metadata": {
    "tags": []
   },
   "outputs": [],
   "source": [
    "len(traindata), len(testdata), len(valdata)"
   ]
  },
  {
   "cell_type": "code",
   "execution_count": null,
   "id": "409fafa2",
   "metadata": {
    "tags": []
   },
   "outputs": [],
   "source": [
    "def one_of_k_encoding_unk(x, allowable_set):\n",
    "    \"\"\"Maps inputs not in the allowable set to the last element.\"\"\"\n",
    "    if x not in allowable_set:\n",
    "        x = allowable_set[-1]\n",
    "    return [x == s for s in allowable_set]\n",
    "def one_of_k_encoding(x, allowable_set):\n",
    "    if x not in allowable_set:\n",
    "        raise Exception(\"input {0} not in allowable set{1}:\".format(\n",
    "            x, allowable_set))\n",
    "    return [x == s for s in allowable_set]"
   ]
  },
  {
   "cell_type": "code",
   "execution_count": null,
   "id": "d129aebf",
   "metadata": {
    "tags": []
   },
   "outputs": [],
   "source": [
    "def atom_features(atom,\n",
    "                  bool_id_feat=False,\n",
    "                  explicit_H=False,\n",
    "                  use_chirality=True):\n",
    "    if bool_id_feat:\n",
    "        return np.array([atom_to_id(atom)])\n",
    "    else:\n",
    "        results = one_of_k_encoding_unk(atom.GetSymbol(), ['H', 'F', 'C', 'B', 'S', 'Cl', 'N', 'Fe', 'P', 'Br', 'O']) + \\\n",
    "                  one_of_k_encoding_unk(atom.GetDegree(), [0,1,2,3,4,5])+[ atom.GetFormalCharge(), atom.GetNumRadicalElectrons(), atom.GetTotalNumHs()] + \\\n",
    "                  one_of_k_encoding_unk(atom.GetHybridization(), [\n",
    "                    Chem.rdchem.HybridizationType.SP, Chem.rdchem.HybridizationType.SP2,\n",
    "                    Chem.rdchem.HybridizationType.SP3, Chem.rdchem.HybridizationType.\n",
    "                                        SP3D, Chem.rdchem.HybridizationType.SP3D2,'other'\n",
    "                  ]) + [atom.GetIsAromatic()] #+ one_of_k_encoding_unk(atom.GetTotalNumHs(), [0, 1,2,3,4])\n",
    "        # In case of explicit hydrogen(QM8, QM9), avoid calling `GetTotalNumHs`\n",
    "        if not explicit_H:\n",
    "            results = results + one_of_k_encoding_unk(atom.GetTotalNumHs(),\n",
    "                                                      [0, 1, 2, 3, 4])\n",
    "        if use_chirality:\n",
    "            try:\n",
    "                results = results + one_of_k_encoding_unk(\n",
    "                    atom.GetProp('_CIPCode'),\n",
    "                    ['R', 'S']) + [atom.HasProp('_ChiralityPossible')]\n",
    "            except:\n",
    "                results = results + [False, False\n",
    "                                     ] + [atom.HasProp('_ChiralityPossible')]\n",
    "\n",
    "        return np.array(results)\n"
   ]
  },
  {
   "cell_type": "code",
   "execution_count": null,
   "id": "5dba8585",
   "metadata": {
    "tags": []
   },
   "outputs": [],
   "source": [
    "mol = Chem.MolFromSmiles(traindata['group'][0])\n",
    "atom = mol.GetAtomWithIdx(4)\n",
    "atom_features(atom, use_chirality=True)"
   ]
  },
  {
   "cell_type": "code",
   "execution_count": null,
   "id": "10b55589",
   "metadata": {
    "tags": []
   },
   "outputs": [],
   "source": [
    "len(atom_features(atom))"
   ]
  },
  {
   "cell_type": "code",
   "execution_count": null,
   "id": "49af8cc1",
   "metadata": {
    "tags": []
   },
   "outputs": [],
   "source": [
    "def element_to_onehot(s, x, y):\n",
    "    mol = Chem.MolFromSmiles(s)\n",
    "    out = []\n",
    "    for i in range(0, len(mol.GetAtoms())):\n",
    "        v = atom_features(mol.GetAtomWithIdx(i),use_chirality=True)\n",
    "        v= list(v)\n",
    "        v.append(x)\n",
    "        v.append(y)\n",
    "        v= np.array(v)\n",
    "        out.append(v)\n",
    "    return np.asarray(out)"
   ]
  },
  {
   "cell_type": "code",
   "execution_count": null,
   "id": "6421ae3a",
   "metadata": {
    "tags": []
   },
   "outputs": [],
   "source": [
    "y_train = np.asarray(traindata['CO2-exp'])\n",
    "y_val = np.asarray(valdata['CO2-exp'])\n",
    "y_test = np.asarray(testdata['CO2-exp'])"
   ]
  },
  {
   "cell_type": "code",
   "execution_count": null,
   "id": "828b4d51",
   "metadata": {
    "tags": []
   },
   "outputs": [],
   "source": [
    "#process SMILES strings into graphs\n",
    "def get_node_edge(tdata):\n",
    "    nodes = []\n",
    "    edge_index = []\n",
    "    for i in range(len(tdata)):\n",
    "        G_C = read_smiles(tdata['group'][i], explicit_hydrogen=False)\n",
    "        feature = element_to_onehot(tdata['group'][i], tdata['T'][i]/fdata['T'].max(), tdata['P'][i]/fdata['P'].max())\n",
    "        edges = np.asarray(G_C.edges)\n",
    "        index = np.asarray([edges[:,0], edges[:,1]]) #reshape indices into shape [2, -1]\n",
    "        nodes.append(feature)\n",
    "        edge_index.append(index)\n",
    "    return nodes, edge_index"
   ]
  },
  {
   "cell_type": "code",
   "execution_count": null,
   "id": "90312cbc",
   "metadata": {
    "tags": []
   },
   "outputs": [],
   "source": [
    "def get_data_loader(tdata, Y, batchsize, shuffle=True):\n",
    "    node, edge = get_node_edge(tdata)\n",
    "    mdata = list()\n",
    "    for i in range(0, len(node)):\n",
    "        x = torch.tensor(node[i], dtype=torch.float) #convert node features into torch tensor\n",
    "        edges = torch.tensor(edge[i], dtype=torch.long) #convert edge index into torch tensor\n",
    "        y = torch.tensor(Y[i], dtype=torch.float) #change shape of label and convert to tensor\n",
    "        mdata.append(Data(x=x,edge_index=edges, y=y)) #add the Data object to the list of data\n",
    "    loader = DataLoader(mdata, batch_size=batchsize, shuffle=shuffle)\n",
    "    return loader"
   ]
  },
  {
   "cell_type": "code",
   "execution_count": null,
   "id": "e17d70d1",
   "metadata": {
    "tags": []
   },
   "outputs": [],
   "source": [
    "train_loader = get_data_loader(traindata,y_train, 64, shuffle=False)\n",
    "val_loader = get_data_loader(valdata, y_val, 64, shuffle=False)\n",
    "test_loader = get_data_loader(testdata, y_test,64, shuffle=False)"
   ]
  },
  {
   "cell_type": "code",
   "execution_count": null,
   "id": "f3a8e6e2-98a7-4465-9910-8abb72db5de5",
   "metadata": {
    "tags": []
   },
   "outputs": [],
   "source": [
    "import dill\n",
    "for i in range(1, 6):\n",
    "    traindata = pd.read_csv(f'data/train_{i}_group_co2.csv')\n",
    "    valdata = pd.read_csv(f'data/val_{i}_group_co2.csv')\n",
    "    y_train = np.asarray(traindata['CO2-exp'])\n",
    "    y_val = np.asarray(valdata['CO2-exp'])\n",
    "    train_loader = get_data_loader(traindata,y_train,64, shuffle=False)\n",
    "    val_loader = get_data_loader(valdata, y_val, 64, shuffle=False)\n",
    "    with open( f'data/train_loader_{i}_co2.dump', 'wb') as f:\n",
    "        dill.dump(train_loader, f)\n",
    "    with open(f'data/val_loader_{i}_co2.dump', 'wb') as f:\n",
    "        dill.dump(val_loader, f)"
   ]
  },
  {
   "cell_type": "code",
   "execution_count": null,
   "id": "66171dd7",
   "metadata": {
    "tags": []
   },
   "outputs": [],
   "source": [
    "for step, data in enumerate(train_loader):\n",
    "    print(f'Step {step + 1}:')\n",
    "    print('=======')\n",
    "    print(f'Number of graphs in the current batch: {data.num_graphs}')\n",
    "    print(data)\n",
    "    print()"
   ]
  },
  {
   "cell_type": "code",
   "execution_count": null,
   "id": "92123424",
   "metadata": {
    "tags": []
   },
   "outputs": [],
   "source": [
    "#define the message passing network\n",
    "from torch_geometric.nn import global_add_pool, GraphConv\n",
    "from torch_geometric.nn import global_mean_pool, BatchNorm\n",
    "import torch.nn as nn\n",
    "class Net(torch.nn.Module):\n",
    "    def __init__(self, hidden_layer, hidden_size, drop_rate):\n",
    "        super(Net, self).__init__()\n",
    "        \n",
    "        torch.manual_seed(12345)\n",
    "        \n",
    "        self.hidden_layer = hidden_layer\n",
    "        self.drop_rate = drop_rate\n",
    "        self.conv1 = GraphConv(37, hidden_size)\n",
    "        if hidden_layer ==1:\n",
    "            last_size = int(hidden_size/2)\n",
    "            self.conv2 = GraphConv(hidden_size, int(hidden_size/2))\n",
    "        else:\n",
    "            last_size = int(hidden_size/4)\n",
    "            self.conv2 = GraphConv(hidden_size, int(hidden_size/2))\n",
    "            self.conv3 = GraphConv(int(hidden_size/2), int(hidden_size/4))\n",
    "        self.lin1 = Linear(last_size, int(last_size/2))\n",
    "        self.lin2 = Linear(int(last_size/2), 1)\n",
    "\n",
    "    def forward(self, x, edge_index, batch, edge_weight=None):\n",
    "        x = self.conv1(x, edge_index,edge_weight)\n",
    "        x = F.relu(x)\n",
    "        x = F.dropout(x, p=self.drop_rate, training=self.training)\n",
    "        if self.hidden_layer ==1:\n",
    "            x = self.conv2(x, edge_index,edge_weight)\n",
    "            x = F.relu(x)\n",
    "            x = F.dropout(x, p=self.drop_rate, training=self.training)\n",
    "        else:\n",
    "            x = self.conv2(x, edge_index, edge_weight)\n",
    "            x = F.relu(x)\n",
    "            x = F.dropout(x, p=self.drop_rate, training=self.training)\n",
    "            x = self.conv3(x, edge_index,edge_weight)\n",
    "            x = F.relu(x)\n",
    "            x = F.dropout(x, p=self.drop_rate, training=self.training)\n",
    "        x = global_add_pool(x, batch)\n",
    "        x = self.lin1(x)\n",
    "        x = F.relu(x)\n",
    "        x = self.lin2(x)\n",
    "        return x"
   ]
  },
  {
   "cell_type": "code",
   "execution_count": null,
   "id": "747624b4",
   "metadata": {
    "tags": []
   },
   "outputs": [],
   "source": [
    "#set up device and create model\n",
    "import torch.nn.functional as F\n",
    "device = torch.device('cuda' if torch.cuda.is_available() else 'cpu') #use CUDA if available\n",
    "#model = Net().to(device) \n",
    "#optimizer = torch.optim.Adam(model.parameters(), lr=0.001, weight_decay=1e-4) \n",
    "loss_fn=F.mse_loss"
   ]
  },
  {
   "cell_type": "code",
   "execution_count": null,
   "id": "9e9d0bef",
   "metadata": {
    "tags": []
   },
   "outputs": [],
   "source": [
    "def train(model, loader, optimizer):\n",
    "    model.train()\n",
    "    for data in loader:\n",
    "        data = data.to(device)  \n",
    "        out = model(data.x, data.edge_index, data.batch)  \n",
    "        loss = loss_fn(out, data.y.reshape(-1,1)) \n",
    "        loss.backward()  \n",
    "        optimizer.step()  \n",
    "        optimizer.zero_grad()\n",
    "\n",
    "def test(model, loader):\n",
    "    model.eval()\n",
    "    predictions = []\n",
    "    actul = []\n",
    "    actul = np.array(actul)\n",
    "    predictions= np.array(predictions)\n",
    "    for data in loader:\n",
    "        data = data.to(device) \n",
    "        out = model(data.x, data.edge_index, data.batch)  \n",
    "        predictions= np.concatenate((predictions, out.cpu().detach().numpy().reshape(-1)))\n",
    "        actul= np.concatenate((actul, data.y.cpu().detach().numpy()))\n",
    "    return np.sqrt(mean_squared_error(actul, predictions)),r2_score(actul, predictions),"
   ]
  },
  {
   "cell_type": "code",
   "execution_count": null,
   "id": "0b6a2603",
   "metadata": {
    "tags": []
   },
   "outputs": [],
   "source": [
    "class early_stopping:\n",
    "    def __init__(self, patience):\n",
    "        self.patience = patience\n",
    "        self.counter = 0\n",
    "        self.early_stop = False\n",
    "        self.best_score = None\n",
    "        self.loss_min = np.Inf\n",
    "    def __call__(self, val_loss, model, file_name):\n",
    "        score = -val_loss\n",
    "        if self.best_score is None:\n",
    "            self.best_score = score\n",
    "            self.save_checkpoint(model, file_name)\n",
    "        elif score < self.best_score:\n",
    "            self.counter += 1\n",
    "            if self.counter > self.patience:\n",
    "                self.early_stop = True\n",
    "        else:\n",
    "            self.best_score = score\n",
    "            self.counter = 0\n",
    "            self.loss_min = val_loss\n",
    "            self.model = model\n",
    "            self.save_checkpoint(model, file_name)\n",
    "    def save_checkpoint(self, model, file_name):\n",
    "        torch.save(model.state_dict(), file_name)"
   ]
  },
  {
   "cell_type": "code",
   "execution_count": null,
   "id": "96356f4b",
   "metadata": {
    "tags": []
   },
   "outputs": [],
   "source": [
    "from hyperopt import hp, tpe, Trials, fmin, STATUS_OK\n",
    "from hyperopt.pyll.stochastic import sample\n",
    "import numpy as np\n",
    "import dill\n",
    "space = {'hidden_size': hp.quniform('hidden_size',16, 1024, 16),\n",
    "        'hidden_layers': hp.choice('hidden_layers',[1, 2]),\n",
    "        'lr':hp.loguniform('r1_rate', np.log(0.0005), np.log(0.01)),\n",
    "        'drop_rate': hp.quniform('drop_rate', 0, 0.5, 0.1),\n",
    "        'weight_decay': hp.choice('weight_decay',[1e-06,1e-05, 1e-04, 1e-03,1e-02])}"
   ]
  },
  {
   "cell_type": "code",
   "execution_count": null,
   "id": "5b9b0ee2",
   "metadata": {
    "tags": []
   },
   "outputs": [],
   "source": [
    "def fit(params):\n",
    "    loss = []\n",
    "    for i in range(1, 6):\n",
    "        model = Net(params['hidden_layers'],params['hidden_size'],params['drop_rate']).to(device) \n",
    "        optimizer = torch.optim.Adam(model.parameters(), lr=params['lr'], weight_decay=params['weight_decay'])\n",
    "        with open(f'data/train_loader_{i}_co2.dump', 'rb') as file:\n",
    "            train_loader = dill.load(file)\n",
    "        with open(f'data/val_loader_{i}_co2.dump', 'rb') as file:\n",
    "            val_loader = dill.load(file)\n",
    "        es=early_stopping(10)\n",
    "        for epoch in range(6000):\n",
    "            train(model,train_loader, optimizer)\n",
    "            val_rmse, val_r2 = test(model, val_loader)\n",
    "            es(val_rmse, model, 'data/GCN-co2.model')\n",
    "            if es.early_stop:\n",
    "                break\n",
    "        loss.append(es.loss_min)\n",
    "    return np.mean(loss)"
   ]
  },
  {
   "cell_type": "code",
   "execution_count": null,
   "id": "58843219",
   "metadata": {
    "tags": []
   },
   "outputs": [],
   "source": [
    "import pickle\n",
    "def objective(params):\n",
    "    global ITERATION\n",
    "    ITERATION += 1\n",
    "    for parameter_name in ['hidden_size', 'hidden_layers']:\n",
    "        params[parameter_name] = int(params[parameter_name])\n",
    "    val_loss= fit(params)\n",
    "    loss = val_loss\n",
    "    of_connection = open(out_file, 'a')\n",
    "    writer = csv.writer(of_connection)\n",
    "    writer.writerow([loss, params, ITERATION])\n",
    "    pickle.dump(bayes_trial, open(\"GCN_co2.p\", \"wb\"))\n",
    "    return {'loss': loss, 'params':params, 'iteration': ITERATION, 'status': STATUS_OK}"
   ]
  },
  {
   "cell_type": "code",
   "execution_count": null,
   "id": "d5336432",
   "metadata": {
    "tags": []
   },
   "outputs": [],
   "source": [
    "import csv\n",
    "out_file = 'GCN_co2_hyper.csv'\n",
    "of_connection = open(out_file, 'w')\n",
    "writer = csv.writer(of_connection)\n",
    "writer.writerow(['loss','params','iteration'])\n",
    "of_connection.close()"
   ]
  },
  {
   "cell_type": "code",
   "execution_count": null,
   "id": "869f70a5",
   "metadata": {
    "tags": []
   },
   "outputs": [],
   "source": [
    "tpe_algo = tpe.suggest\n",
    "bayes_trial = Trials()"
   ]
  },
  {
   "cell_type": "code",
   "execution_count": null,
   "id": "1e1780b2",
   "metadata": {
    "scrolled": true,
    "tags": []
   },
   "outputs": [],
   "source": [
    "#%%capture\n",
    "from hyperopt.early_stop import no_progress_loss\n",
    "global ITERATION\n",
    "ITERATION =0\n",
    "best = fmin(fn = objective, space =space, algo = tpe_algo, trials = bayes_trial,\n",
    "            early_stop_fn=no_progress_loss(100),max_evals=3000, rstate= np.random.RandomState(50)) "
   ]
  },
  {
   "cell_type": "code",
   "execution_count": null,
   "id": "3a248dae",
   "metadata": {
    "tags": []
   },
   "outputs": [],
   "source": [
    "result = pd.read_csv('GCN_co2_hyper.csv')\n",
    "result.sort_values('loss', ascending= True, inplace = True)\n",
    "result.reset_index(drop = True, inplace =True)\n",
    "result.head()"
   ]
  },
  {
   "cell_type": "code",
   "execution_count": null,
   "id": "29cbb3b2",
   "metadata": {
    "tags": []
   },
   "outputs": [],
   "source": [
    "import ast\n",
    "params = ast.literal_eval(result['params'][0])                                                                                                                                                                                                                                                               \n",
    "params"
   ]
  },
  {
   "cell_type": "code",
   "execution_count": null,
   "id": "6fc42c64",
   "metadata": {
    "tags": []
   },
   "outputs": [],
   "source": [
    "def test_hh(loader):\n",
    "    model.eval()\n",
    "    predictions = []\n",
    "    actul = []\n",
    "    actul = np.array(actul)\n",
    "    predictions= np.array(predictions)\n",
    "    for data in loader:\n",
    "        data = data.to(device) \n",
    "        out = model(data.x, data.edge_index, data.batch)  \n",
    "        predictions= np.concatenate((predictions, out.cpu().detach().numpy().reshape(-1)))\n",
    "        actul= np.concatenate((actul, data.y.cpu().detach().numpy()))\n",
    "    return actul, predictions"
   ]
  },
  {
   "cell_type": "code",
   "execution_count": null,
   "id": "96aaeb76",
   "metadata": {
    "tags": []
   },
   "outputs": [],
   "source": [
    "import dill\n",
    "for i in range(1, 6):\n",
    "    model = Net(params['hidden_layers'],params['hidden_size'],params['drop_rate']).to(device) \n",
    "    optimizer = torch.optim.Adam(model.parameters(), lr=params['lr'], weight_decay=params['weight_decay'])\n",
    "    with open(f'data/train_loader_{i}_co2.dump', 'rb') as file:\n",
    "        train_loader = dill.load(file)\n",
    "    with open(f'data/val_loader_{i}_co2.dump', 'rb') as file:\n",
    "        val_loader = dill.load(file)\n",
    "    es=early_stopping(100)\n",
    "    for epoch in range(6000):\n",
    "        train(model,train_loader, optimizer)\n",
    "        val_rmse, val_r2 = test(model, val_loader)\n",
    "        es(val_rmse, model, f'data/GCN-co2_{i}.model')\n",
    "        if es.early_stop:\n",
    "            break"
   ]
  },
  {
   "cell_type": "code",
   "execution_count": null,
   "id": "40b849f4-9fc0-496f-b2ae-1baeb35d7118",
   "metadata": {
    "tags": []
   },
   "outputs": [],
   "source": [
    "len(testdata)"
   ]
  },
  {
   "cell_type": "code",
   "execution_count": null,
   "id": "e0d7743b-b13d-42f3-95f9-9abd4b94cdc3",
   "metadata": {
    "tags": []
   },
   "outputs": [],
   "source": [
    "true_pred = np.zeros(shape=(1324,))\n",
    "for i in range(1, 6):\n",
    "    model = Net(params['hidden_layers'],params['hidden_size'],params['drop_rate']).to(device) \n",
    "    model.load_state_dict(torch.load(f'data/GCN-co2_{i}.model'))\n",
    "    y_test, y_test_pred = test_hh(test_loader)\n",
    "    true_pred = true_pred + y_test_pred\n",
    "true_pred=true_pred/5"
   ]
  },
  {
   "cell_type": "code",
   "execution_count": null,
   "id": "a0db149c",
   "metadata": {},
   "outputs": [],
   "source": []
  }
 ],
 "metadata": {
  "kernelspec": {
   "display_name": "gcn",
   "language": "python",
   "name": "gcn"
  },
  "language_info": {
   "codemirror_mode": {
    "name": "ipython",
    "version": 3
   },
   "file_extension": ".py",
   "mimetype": "text/x-python",
   "name": "python",
   "nbconvert_exporter": "python",
   "pygments_lexer": "ipython3",
   "version": "3.11.5"
  }
 },
 "nbformat": 4,
 "nbformat_minor": 5
}
